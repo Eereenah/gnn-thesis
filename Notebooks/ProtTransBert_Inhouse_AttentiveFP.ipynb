{
  "nbformat": 4,
  "nbformat_minor": 0,
  "metadata": {
    "colab": {
      "name": "ProtTransBert_Inhouse_AttentiveFP.ipynb",
      "provenance": [],
      "collapsed_sections": [],
      "machine_shape": "hm"
    },
    "kernelspec": {
      "display_name": "Python 3",
      "name": "python3"
    }
  },
  "cells": [
    {
      "cell_type": "code",
      "metadata": {
        "id": "QN2N-58IiAib"
      },
      "source": [
        "! pip install -q condacolab"
      ],
      "execution_count": null,
      "outputs": []
    },
    {
      "cell_type": "code",
      "metadata": {
        "id": "fMHkIOtDiEWz"
      },
      "source": [
        "import condacolab\n",
        "condacolab.install()"
      ],
      "execution_count": null,
      "outputs": []
    },
    {
      "cell_type": "code",
      "metadata": {
        "id": "uluHLjAUiGjc"
      },
      "source": [
        "import condacolab\n",
        "condacolab.check()"
      ],
      "execution_count": null,
      "outputs": []
    },
    {
      "cell_type": "code",
      "metadata": {
        "id": "VNDeVcSFaja_"
      },
      "source": [
        "from google.colab import drive\n",
        "drive.mount('/content/drive')"
      ],
      "execution_count": null,
      "outputs": []
    },
    {
      "cell_type": "code",
      "metadata": {
        "id": "zkNUwRPlh6eq"
      },
      "source": [
        "! mamba install -c conda-forge rdkit"
      ],
      "execution_count": null,
      "outputs": []
    },
    {
      "cell_type": "code",
      "metadata": {
        "id": "PTjrMFssndtn"
      },
      "source": [
        "# from bio_embeddings.embed import ProtTransBertBFDEmbedder"
      ],
      "execution_count": null,
      "outputs": []
    },
    {
      "cell_type": "code",
      "metadata": {
        "id": "B6B146ThIUHD"
      },
      "source": [
        "! pip install PyTDC"
      ],
      "execution_count": null,
      "outputs": []
    },
    {
      "cell_type": "code",
      "metadata": {
        "id": "hiw-knQtYxG0"
      },
      "source": [
        "# ! pip install dgl\n",
        "! pip install dgl-cu101"
      ],
      "execution_count": null,
      "outputs": []
    },
    {
      "cell_type": "code",
      "metadata": {
        "id": "Nsqecur1Y3Zz"
      },
      "source": [
        "! pip install dgllife"
      ],
      "execution_count": null,
      "outputs": []
    },
    {
      "cell_type": "code",
      "metadata": {
        "id": "2SL5k5pGZWEf"
      },
      "source": [
        "import dgllife\n",
        "from dgllife import data\n",
        "import dgl"
      ],
      "execution_count": null,
      "outputs": []
    },
    {
      "cell_type": "code",
      "metadata": {
        "id": "e1iBiLo8norI"
      },
      "source": [
        "import numpy as np"
      ],
      "execution_count": null,
      "outputs": []
    },
    {
      "cell_type": "code",
      "metadata": {
        "id": "CYVO660HZ92O"
      },
      "source": [
        "import pandas as pd\n",
        "import time"
      ],
      "execution_count": null,
      "outputs": []
    },
    {
      "cell_type": "code",
      "metadata": {
        "id": "5wDjQP83c865"
      },
      "source": [
        "import shutil\n",
        "import torch\n",
        "import torch.nn as nn\n",
        "\n",
        "from copy import deepcopy\n",
        "from dgllife.data import MoleculeCSVDataset\n",
        "from dgllife.utils import Meter, smiles_to_bigraph, CanonicalAtomFeaturizer, EarlyStopping, CanonicalBondFeaturizer, BaseAtomFeaturizer\n",
        "from hyperopt import fmin, tpe\n",
        "from torch.optim import Adam\n",
        "from torch.utils.data import DataLoader"
      ],
      "execution_count": null,
      "outputs": []
    },
    {
      "cell_type": "code",
      "metadata": {
        "id": "LV9uZs6odpEJ"
      },
      "source": [
        "from rdkit import Chem"
      ],
      "execution_count": null,
      "outputs": []
    },
    {
      "cell_type": "code",
      "metadata": {
        "id": "xs_c_fOxhcWz"
      },
      "source": [
        "import networkx as nx"
      ],
      "execution_count": null,
      "outputs": []
    },
    {
      "cell_type": "code",
      "metadata": {
        "id": "3Mr0yQ33oazo"
      },
      "source": [
        "from collections import defaultdict\n",
        "from dgl import backend as F\n",
        "from rdkit import Chem\n",
        "from rdkit.Chem import ChemicalFeatures\n",
        "from rdkit import RDConfig\n",
        "from dgllife.utils import smiles_to_bigraph\n",
        "from dgllife.utils import ConcatFeaturizer, EarlyStopping\n",
        "from dgllife.utils import BaseAtomFeaturizer, atom_type_one_hot, atom_degree_one_hot, \\\n",
        "    atom_formal_charge, atom_num_radical_electrons, \\\n",
        "    atom_hybridization_one_hot, atom_total_num_H_one_hot, atom_implicit_valence_one_hot, atom_is_aromatic\n",
        "from dgllife.utils.featurizers import BaseBondFeaturizer\n",
        "from dgl.data.utils import save_graphs, load_graphs\n",
        "from functools import partial\n",
        "from dgllife.model import AttentiveFPPredictor"
      ],
      "execution_count": null,
      "outputs": []
    },
    {
      "cell_type": "markdown",
      "metadata": {
        "id": "JQ0oaWm3RYoj"
      },
      "source": [
        "## Create embeddings:"
      ]
    },
    {
      "cell_type": "code",
      "metadata": {
        "id": "9mtO02p3RbJh"
      },
      "source": [
        "from torch.nn.utils.rnn import pad_sequence"
      ],
      "execution_count": null,
      "outputs": []
    },
    {
      "cell_type": "code",
      "metadata": {
        "id": "Pp-dkBlPpxhB"
      },
      "source": [
        "# embedders = []\n",
        "# seq_4o2b = 'MRECISIHVGQAGVQIGNACWELYCLEHGIQPDGQMPSDKTIGGGDDSFNTFFSETGAGKHVPRAVFVDLEPTVIDEVRTGTYRQLFHPEQLITGKEDAANNYARGHYTIGKEIIDLVLDRIRKLADQCTGLQGFLVFHSFGGGTGSGFTSLLMERLSVDYGKKSKLEFSIYPAPQVSTAVVEPYNSILTTHTTLEHSDCAFMVDNEAIYDICRRNLDIERPTYTNLNRLISQIVSSITASLRFDGALNVDLTEFQTNLVPYPRIHFPLATYAPVISAEKAYHEQLSVAEITNACFEPANQMVKCDPRHGKYMACCLLYRGDVVPKDVNAAIATIKTKRSIQFVDWCPTGFKVGINYQPPTVVPGGDLAKVQRAVCMLSNTTAIAEAWARLDHKFDLMYAKRAFVHWYVGEGMEEGEFSEAREDMAALEKDYEEVGVDSVEGEGEEEGEEYMREIVHIQAGQCGNQIGAKFWEVISDEHGIDPTGSYHGDSDLQLERINVYYNEATGNKYVPRAILVDLEPGTMDSVRSGPFGQIFRPDNFVFGQSGAGNNWAKGHYTEGAELVDSVLDVVRKESESCDCLQGFQLTHSLGGGTGSGMGTLLISKIREEYPDRIMNTFSVMPSPKVSDTVVEPYNATLSVHQLVENTDETYCIDNEALYDICFRTLKLTTPTYGDLNHLVSATMSGVTTCLRFPGQLNADLRKLAVNMVPFPRLHFFMPGFAPLTSRGSQQYRALTVPELTQQMFDSKNMMAACDPRHGRYLTVAAIFRGRMSMKEVDEQMLNVQNKNSSYFVEWIPNNVKTAVCDIPPRGLKMSATFIGNSTAIQELFKRISEQFTAMFRRKAFLHWYTGEGMDEMEFTEAESNMNDLVSEYQQYQDATADEQGEFEEEEGEDEAMADMEVIELNKCTSGQSFEVILKPPSFDGVPEFNASLPRRRDPSLEEIQKKLEAAEERRKYQEAELLKHLAEKREHEREVIQKAIEENNNFIKMAKEKLAQKMESNKENREAHLAAMLERLQEKDKHAEEVRKNKELKEEASRMYTFVVRDENSSVYAEVSRLLLATGQWKRLRKDNPRFNLMLGERNRLPFGRLGHEPGLVQLVNYYRGADKLCRKASLVKLIKTSPELSESCTWFPESYVIYPTNLKTPVAPAQNGIRHLINNTRTDEREVFLAAYNRRREGREGNVWIAKSSAGAKGEGILISSEASELLDFIDEQGQVHVIQKYLEKPLLLEPGHRKFDIRSWVLVDHLYNIYLYREGVLRTSSEPYNSANFQDKTCHLTNHCIQKEYSKNYGRYEEGNEMFFEEFNQYLMDALNTTLENSILLQIKHIIRSCLMCIEPAISTKHLHYQSFQLFGFDFMVDEELKVWLIEVNGAPACAQKLYAELCQGIVDVAISSVFPLADTGQKTSQPTSIFIKLHHHHHH'\n",
        "# seq_6wvr = 'MRECISIHVGQAGVQIGNACWELYCLEHGIQPDGQMPSDKTIGGGDDSFNTFFSETGAGKHVPRAVFVDLEPTVIDEVRTGTYRQLFHPEQLITGKEDAANNYARGHYTIGKEIIDLVLDRIRKLADQCTGLQGFLVFHSFGGGTGSGFTSLLMERLSVDYGKKSKLEFSIYPAPQVSTAVVEPYNSILTTHTTLEHSDCAFMVDNEAIYDICRRNLDIERPTYTNLNRLISQIVSSITASLRFDGALNVDLTEFQTNLVPYPRIHFPLATYAPVISAEKAYHEQLSVAEITNACFEPANQMVKCDPRHGKYMACCLLYRGDVVPKDVNAAIATIKTKRSIQFVDWCPTGFKVGINYQPPTVVPGGDLAKVQRAVCMLSNTTAIAEAWARLDHKFDLMYAKRAFVHWYVGEGMEEGEFSEAREDMAALEKDYEEVGVDSVEGEGEEEGEEYMREIVHIQAGQCGNQIGAKFWEVISDEHGIDPTGSYHGDSDLQLERINVYYNEAAGNKYVPRAILVDLEPGTMDSVRSGPFGQIFRPDNFVFGQSGAGNNWAKGHYTEGAELVDSVLDVVRKESESCDCLQGFQLTHSLGGGTGSGMGTLLISKIREEYPDRIMNTFSVMPSPKVSDTVVEPYNATLSVHQLVENTDETYSIDNEALYDICFRTLKLTTPTYGDLNHLVSATMSGVTTCLRFPGQLNADLRKLAVNMVPFPRLHFFMPGFAPLTSRGSQQYRALTVPELTQQMFDSKNMMAACDPRHGRYLTVAAIFRGRMSMKEVDEQMLNVQNKNSSYFVEWIPNNVKTAVCDIPPRGLKMSATFIGNSTAIQELFKRISEQFTAMFRRKAFLHWYTGEGMDEMEFTEAESNMNDLVSEYQQYQDATADEQGEFEEEEGEDEA'\n",
        "# seq_4igh = 'GDERFYAEHLMPTLQGLLDPESAHRLAVRFTSLGLLPRARFQDSDMLEVRVLGHKFRNPVGIAAGFDKHGEAVDGLYKMGFGFVEIGSVTPKPQEGNPRPRVFRLPEDQAVINRYGFNSHGLSVVEHRLRARQQKQAKLTEDGLPLGVNLGKNKTSVDAAEDYAEGVRVLGPLADYLVVNVSSPNTAGLRSLQGKAELRRLLTKVLQERDGLRRVHRPAVLVKIAPDLTSQDKEDIASVVKELGIDGLIVTNTTVSRPAGLQGALRSETGGLSGKPLRDLSTQTIREMYALTQGRVPIIGVGGVSSGQDALEKIRAGASLVQLYTALTFWGPPVVGKVKRELEALLKEQGFGGVTDAIGADHRRLEHHHHHH'\n",
        "# seq_4o4i = 'MRECISIHVGQAGVQIGNACWELYCLEHGIQPDGQMPSDKTIGGGDDSFNTFFSETGAGKHVPRAVFVDLEPTVIDEVRTGTYRQLFHPEQLITGKEDAANNYARGHYTIGKEIIDLVLDRIRKLADQCTGLQGFLVFHSFGGGTGSGFTSLLMERLSVDYGKKSKLEFSIYPAPQVSTAVVEPYNSILTTHTTLEHSDCAFMVDNEAIYDICRRNLDIERPTYTNLNRLISQIVSSITASLRFDGALNVDLTEFQTNLVPYPRIHFPLATYAPVISAEKAYHEQLSVAEITNACFEPANQMVKCDPRHGKYMACCLLYRGDVVPKDVNAAIATIKTKRSIQFVDWCPTGFKVGINYQPPTVVPGGDLAKVQRAVCMLSNTTAIAEAWARLDHKFDLMYAKRAFVHWYVGEGMEEGEFSEAREDMAALEKDYEEVGVDSVEGEGEEEGEEYMREIVHIQAGQCGNQIGAKFWEVISDEHGIDPTGSYHGDSDLQLERINVYYNEATGNKYVPRAILVDLEPGTMDSVRSGPFGQIFRPDNFVFGQSGAGNNWAKGHYTEGAELVDSVLDVVRKESESCDCLQGFQLTHSLGGGTGSGMGTLLISKIREEYPDRIMNTFSVMPSPKVSDTVVEPYNATLSVHQLVENTDETYCIDNEALYDICFRTLKLTTPTYGDLNHLVSATMSGVTTCLRFPGQLNADLRKLAVNMVPFPRLHFFMPGFAPLTSRGSQQYRALTVPELTQQMFDSKNMMAACDPRHGRYLTVAAIFRGRMSMKEVDEQMLNVQNKNSSYFVEWIPNNVKTAVCDIPPRGLKMSATFIGNSTAIQELFKRISEQFTAMFRRKAFLHWYTGEGMDEMEFTEAESNMNDLVSEYQQYQDATADEQGEFEEEEGEDEAMADMEVIELNKCTSGQSFEVILKPPSFDGVPEFNASLPRRRDPSLEEIQKKLEAAEERRKYQEAELLKHLAEKREHEREVIQKAIEENNNFIKMAKEKLAQKMESNKENREAHLAAMLERLQEKDKHAEEVRKNKELKEEASRMYTFVVRDENSSVYAEVSRLLLATGQWKRLRKDNPRFNLMLGERNRLPFGRLGHEPGLVQLVNYYRGADKLCRKASLVKLIKTSPELSESCTWFPESYVIYPTNLKTPVAPAQNGIRHLINNTRTDEREVFLAAYNRRREGREGNVWIAKSSAGAKGEGILISSEASELLDFIDEQGQVHVIQKYLEKPLLLEPGHRKFDIRSWVLVDHLYNIYLYREGVLRTSSEPYNSANFQDKTCHLTNHCIQKEYSKNYGRYEEGNEMFFEEFNQYLMDALNTTLENSILLQIKHIIRSCLMCIEPAISTKHLHYQSFQLFGFDFMVDEELKVWLIEVNGAPACAQKLYAELCQGIVDVAISSVFPLADTGQKTSQPTSIFIKLHHHHHH'\n",
        "# seq_2am9 = 'ETTQKLTVSHIEGYECQPIFLNVLEAIEPGVVCAGHDNNQPDSFAALLSSLNELGERQLVHVVKWAKALPGFRNLHVDDQMAVIQYSWMGLMVFAMGWRSFTNVNSRMLYFAPDLVFNEYRMHKSRMYSQCVRMRHLSQEFGWLQITPQEFLCMKALLLFSIIPVDGLKNQKFFDELRMNYIKELDRIIACKRKNPTSCSRRFYQLTKLLDSVQPIARELHQFTFDLLIKSHMVSVDFPEMMAEIISVQVPKILSGKVKPIYFHTQ'\n",
        "# seq_3d0e = 'KVTMNDFDYLKLLGKGTFGKVILVREKATGRYYAMKILRKEVIIAKDEVAHTVTESRVLQNTRHPFLTALKYAFQTHDRLCFVMEYANGGELFFHLSRERVFTEERARFYGAEIVSALEYLHSRDVVYRDIKLENLMLDKDGHIKITDFGLCKEGISDGATMKTFCGTPEYLAPEVLEDNDYGRAVDWWGLGVVMYEMMCGRLPFYNQDHERLFELILMEEIRFPRTLSPEAKSLLAGLLKKDPKQRLGGGPSDAKEVMEHRFFLSINWQDVVQKKLLPPFKPQVTSEVDTRYFDDEFTAQSITITPPDRYDSLGLLELDQRTHFPQFDYSASIR'"
      ],
      "execution_count": null,
      "outputs": []
    },
    {
      "cell_type": "code",
      "metadata": {
        "id": "oqRd9M5qxq95"
      },
      "source": [
        "# sequences = [seq_4o2b, seq_6wvr, seq_4igh, seq_4o4i, seq_2am9, seq_3d0e]\n",
        "# embedder = ProtTransBertBFDEmbedder()\n",
        "# embedder = CPCProtEmbedder()"
      ],
      "execution_count": null,
      "outputs": []
    },
    {
      "cell_type": "code",
      "metadata": {
        "id": "VJIMeZIPx5cO"
      },
      "source": [
        "# embeddings = [embedder.reduce_per_protein(embedder.embed(seq)) for seq in sequences]"
      ],
      "execution_count": null,
      "outputs": []
    },
    {
      "cell_type": "code",
      "metadata": {
        "id": "rq0QtxZwzfXa"
      },
      "source": [
        "# add one more embedding for the GTP version of 4o2b\n",
        "# probably not the smartest way to do this :D \n",
        "# embeddings.append(embeddings[0])"
      ],
      "execution_count": null,
      "outputs": []
    },
    {
      "cell_type": "code",
      "metadata": {
        "id": "JXTn-uWDyQ71",
        "colab": {
          "base_uri": "https://localhost:8080/"
        },
        "outputId": "aae1f4ea-8d62-4a30-e71b-bdf151a570b3"
      },
      "source": [
        "for i in embeddings:\n",
        "  print(i.shape)"
      ],
      "execution_count": null,
      "outputs": [
        {
          "output_type": "stream",
          "text": [
            "(1024,)\n",
            "(1024,)\n",
            "(1024,)\n",
            "(1024,)\n",
            "(1024,)\n",
            "(1024,)\n",
            "(1024,)\n"
          ],
          "name": "stdout"
        }
      ]
    },
    {
      "cell_type": "code",
      "metadata": {
        "id": "oK-mq-KQzzBY"
      },
      "source": [
        "# convert to tensor\n",
        "# embeddings = [torch.tensor(e) for e in embeddings]"
      ],
      "execution_count": null,
      "outputs": []
    },
    {
      "cell_type": "code",
      "metadata": {
        "id": "8LtH3I-nycGa"
      },
      "source": [
        "# add passing to make the sequences of the same length\n",
        "# padded_embeddings = pad_sequence(embeddings, batch_first=True)"
      ],
      "execution_count": null,
      "outputs": []
    },
    {
      "cell_type": "code",
      "metadata": {
        "id": "yapQ8zUw0Cr3"
      },
      "source": [
        "# print(padded_embeddings.shape)\n",
        "# padded_embeddings = padded_embeddings.permute(1, 0, 2)\n",
        "# print(padded_embeddings.shape)"
      ],
      "execution_count": null,
      "outputs": []
    },
    {
      "cell_type": "code",
      "metadata": {
        "id": "fD-5LObK1u1m"
      },
      "source": [
        "# padded_embeddings = padded_embeddings.tolist()"
      ],
      "execution_count": null,
      "outputs": []
    },
    {
      "cell_type": "code",
      "metadata": {
        "id": "8UnU6frY2Hyh"
      },
      "source": [
        "# import pandas as pd"
      ],
      "execution_count": null,
      "outputs": []
    },
    {
      "cell_type": "code",
      "metadata": {
        "id": "-0496Okc087C"
      },
      "source": [
        "# receptor = ['receptor_4o2b_GTP.pdbqt', 'receptor_6wvr.pdbqt', '4igh.pdbqt', 'receptor_4o4i.pdbqt', '2am9.pdbqt', '3d0e.pdbqt', 'receptor_4o2b.pdbqt' ]"
      ],
      "execution_count": null,
      "outputs": []
    },
    {
      "cell_type": "code",
      "metadata": {
        "id": "Twm0_M_1v50W"
      },
      "source": [
        "# embeddings = pd.DataFrame(list(zip(receptor, padded_embeddings)),\n",
        "              # columns=['receptor','embedding'])"
      ],
      "execution_count": null,
      "outputs": []
    },
    {
      "cell_type": "code",
      "metadata": {
        "id": "M53ca4aVeolv"
      },
      "source": [
        "# embeddings.to_csv('inhouse_protransbert_1024.csv')"
      ],
      "execution_count": null,
      "outputs": []
    },
    {
      "cell_type": "code",
      "metadata": {
        "id": "TG1MlaPfeuTT"
      },
      "source": [
        "embeddings = pd.read_csv('inhouse_protransbert_1024.csv', converters={'embedding': eval})"
      ],
      "execution_count": null,
      "outputs": []
    },
    {
      "cell_type": "markdown",
      "metadata": {
        "id": "0iDpy8dugWUi"
      },
      "source": [
        "## Create Train/Validation datasets:"
      ]
    },
    {
      "cell_type": "code",
      "metadata": {
        "id": "_l4gY2DLe1Q0"
      },
      "source": [
        "df = pd.read_csv(\"BA_train.csv\")"
      ],
      "execution_count": null,
      "outputs": []
    },
    {
      "cell_type": "code",
      "metadata": {
        "id": "b5hr1aBwaLC1"
      },
      "source": [
        "df.drop(df.loc[df['Energy']== -1].index, inplace=True)\n",
        "df.drop(df.loc[df['receptor']== 'receptor_4o2b.pdbqt'].index, inplace=True)\n",
        "df = df.reset_index(drop=True)"
      ],
      "execution_count": null,
      "outputs": []
    },
    {
      "cell_type": "code",
      "metadata": {
        "id": "lMZJ4XNmiyqm"
      },
      "source": [
        "df.head()"
      ],
      "execution_count": null,
      "outputs": []
    },
    {
      "cell_type": "code",
      "metadata": {
        "id": "H7lk1GDViOCB"
      },
      "source": [
        "df.receptor.value_counts()"
      ],
      "execution_count": null,
      "outputs": []
    },
    {
      "cell_type": "code",
      "metadata": {
        "id": "FqjBo4kAi0ZA"
      },
      "source": [
        "df = df.groupby(['SMILES', 'receptor']).mean()\n",
        "df = df.reset_index()"
      ],
      "execution_count": null,
      "outputs": []
    },
    {
      "cell_type": "code",
      "metadata": {
        "id": "TVpFaiCkJm1u"
      },
      "source": [
        "df = pd.merge(df, embeddings, on='receptor', how='inner')\n",
        "df = df.dropna()\n",
        "df"
      ],
      "execution_count": null,
      "outputs": []
    },
    {
      "cell_type": "markdown",
      "metadata": {
        "id": "PylIYxRLhfSg"
      },
      "source": [
        "## Generating Testing Dataset:"
      ]
    },
    {
      "cell_type": "code",
      "metadata": {
        "id": "_EHXWK0VetEm"
      },
      "source": [
        "df_test = pd.read_csv(\"BA_test.csv\")"
      ],
      "execution_count": null,
      "outputs": []
    },
    {
      "cell_type": "code",
      "metadata": {
        "id": "0eW4jrvAfcYN"
      },
      "source": [
        "df_test.drop(df_test.loc[df_test['Energy']== -1].index, inplace=True)\n",
        "df.drop(df.loc[df['receptor']== 'receptor_4o2b.pdbqt'].index, inplace=True)\n",
        "df_test = df_test.reset_index(drop=True)\n",
        "df_test = df_test.reset_index()\n",
        "df_test.receptor.value_counts()"
      ],
      "execution_count": null,
      "outputs": []
    },
    {
      "cell_type": "markdown",
      "metadata": {
        "id": "T_rXiPuNhlHt"
      },
      "source": [
        "## Create a test set for each receptor:"
      ]
    },
    {
      "cell_type": "code",
      "metadata": {
        "id": "YwTqyPmFiV29"
      },
      "source": [
        "df_test = df_test[['SMILES', 'Energy', 'receptor']]\n",
        "df_test = df_test.groupby(['SMILES', 'receptor']).mean()\n",
        "test = df_test.reset_index()\n",
        "test = pd.merge(test, embeddings, on='receptor', how='outer')\n",
        "print(test)"
      ],
      "execution_count": null,
      "outputs": []
    },
    {
      "cell_type": "code",
      "metadata": {
        "id": "sADFMWyOi3Ut"
      },
      "source": [
        "def train_validate_test_split(df, train_percent=.6, validate_percent=.2, seed=None):\n",
        "    np.random.seed(seed)\n",
        "    perm = np.random.permutation(df.index)\n",
        "    m = len(df.index)\n",
        "    train_end = int(train_percent * m)\n",
        "    validate_end = int(validate_percent * m) + train_end\n",
        "    train = df.iloc[perm[:train_end]]\n",
        "    validate = df.iloc[perm[train_end:validate_end]]\n",
        "    test = df.iloc[perm[validate_end:]]\n",
        "    return train, validate, test"
      ],
      "execution_count": null,
      "outputs": []
    },
    {
      "cell_type": "code",
      "metadata": {
        "id": "bPumDFxOi5Gc"
      },
      "source": [
        "train, valid, _ = train_validate_test_split(df, 0.8, 0.2, seed=100)\n",
        "# train"
      ],
      "execution_count": null,
      "outputs": []
    },
    {
      "cell_type": "code",
      "metadata": {
        "id": "HHQunXbShsUq"
      },
      "source": [
        "device = torch.device('cuda' if torch.cuda.is_available() else 'cpu')\n",
        "print(device)"
      ],
      "execution_count": null,
      "outputs": []
    },
    {
      "cell_type": "markdown",
      "metadata": {
        "id": "Z3sjIHgfj69Y"
      },
      "source": [
        "## Creating Graphs from CSV\n",
        "## Taken from [here](https://github.com/awslabs/dgl-lifesci/blob/master/examples/property_prediction/pubchem_aromaticity/configure.py)"
      ]
    },
    {
      "cell_type": "code",
      "metadata": {
        "id": "KF-5q0fkAOtE"
      },
      "source": [
        "node_featurizer = BaseAtomFeaturizer(\n",
        "        featurizer_funcs={'hv': ConcatFeaturizer([\n",
        "            partial(atom_type_one_hot, allowable_set=[\n",
        "                'C', 'N', 'O'],\n",
        "                    encode_unknown=True),\n",
        "            partial(atom_degree_one_hot, allowable_set=list(range(5))),\n",
        "            partial(atom_implicit_valence_one_hot, allowable_set=list(range(5))),\n",
        "            atom_is_aromatic,\n",
        "            atom_hybridization_one_hot, \n",
        "            atom_total_num_H_one_hot\n",
        "        ],\n",
        "        )})"
      ],
      "execution_count": null,
      "outputs": []
    },
    {
      "cell_type": "code",
      "metadata": {
        "id": "v4lfsp-dPRWu"
      },
      "source": [
        "edge_featurizer = BaseBondFeaturizer({'he': lambda bond: [0 for _ in range(10)]})"
      ],
      "execution_count": null,
      "outputs": []
    },
    {
      "cell_type": "code",
      "metadata": {
        "id": "KrHybsFtOeFa"
      },
      "source": [
        "class GraphWithProtein(MoleculeCSVDataset):\n",
        "    def __init__(self,\n",
        "                 df,\n",
        "                 smiles_to_graph=smiles_to_bigraph,\n",
        "                 node_featurizer=None,\n",
        "                 edge_featurizer=None,\n",
        "                 smiles_column='SMILES',\n",
        "                 cache_file_path='fps_dglgraph.bin',\n",
        "                 task_names=['Energy'],\n",
        "                 load=True,\n",
        "                 log_every=1000):\n",
        "\n",
        "        self.protein = torch.tensor(df['embedding'].tolist()).float()\n",
        "        self.load_full = True\n",
        "\n",
        "        super(GraphWithProtein, self).__init__(df=df,\n",
        "                                            smiles_to_graph=smiles_to_graph,\n",
        "                                            node_featurizer=node_featurizer,\n",
        "                                            edge_featurizer=edge_featurizer,\n",
        "                                            smiles_column=smiles_column,\n",
        "                                            cache_file_path=cache_file_path,\n",
        "                                            task_names=task_names,\n",
        "                                            load=load,\n",
        "                                            log_every=log_every)\n",
        "\n",
        "    def __getitem__(self, item):\n",
        "        if self.load_full:\n",
        "            return self.smiles[item], self.graphs[item], self.labels[item], self.protein[item]\n",
        "        else:\n",
        "            return self.smiles[item], self.graphs[item], self.labels[item]"
      ],
      "execution_count": null,
      "outputs": []
    },
    {
      "cell_type": "code",
      "metadata": {
        "id": "Lmp_B5gAoV7H"
      },
      "source": [
        "train_set = GraphWithProtein(df=train, smiles_to_graph=smiles_to_bigraph, node_featurizer=node_featurizer, edge_featurizer=edge_featurizer, cache_file_path='/content/drive/MyDrive/Graph_Neural_Networks/Attentive_FP 3.0/DGL Data/dglgraph1a.bin', smiles_column='SMILES', task_names=['Energy'], log_every=1000)\n",
        "val_set = GraphWithProtein(df=valid, smiles_to_graph=smiles_to_bigraph, node_featurizer=node_featurizer, edge_featurizer=edge_featurizer, cache_file_path='/content/drive/MyDrive/Graph_Neural_Networks/Attentive_FP 3.0/DGL Data/dglgraph2a.bin', smiles_column='SMILES', task_names=['Energy'], log_every=1000)"
      ],
      "execution_count": null,
      "outputs": []
    },
    {
      "cell_type": "code",
      "metadata": {
        "id": "vBjaMafyuej_"
      },
      "source": [
        "test_set = GraphWithProtein(df=test, smiles_to_graph=smiles_to_bigraph, node_featurizer=node_featurizer, edge_featurizer=edge_featurizer, cache_file_path='/content/drive/MyDrive/Graph_Neural_Networks/Attentive_FP 3.0/DGL Data/dglgraph3a.bin', smiles_column='SMILES', task_names=['Energy'], log_every=1000)"
      ],
      "execution_count": null,
      "outputs": []
    },
    {
      "cell_type": "code",
      "metadata": {
        "id": "rFe-KLlSgub7"
      },
      "source": [
        "test_4o2b_GTP = test.loc[test['receptor'] == 'receptor_4o2b_GTP.pdbqt']\n",
        "test_4o2b_GTP = test_4o2b_GTP[['SMILES', 'Energy', 'embedding']].reset_index(drop=True)\n",
        "\n",
        "test_6wvr = test.loc[test['receptor'] == 'receptor_6wvr.pdbqt']\n",
        "test_6wvr = test_6wvr[['SMILES', 'Energy', 'embedding']].reset_index(drop=True)\n",
        "\n",
        "test_4o2b = test.loc[test['receptor'] == 'receptor_4o2b.pdbqt']\n",
        "test_4o2b = test_4o2b[['SMILES', 'Energy', 'embedding']].reset_index(drop=True)\n",
        "\n",
        "test_3d0e = test.loc[test['receptor'] == '3d0e.pdbqt']\n",
        "test_3d0e = test_3d0e[['SMILES', 'Energy', 'embedding']].reset_index(drop=True)\n",
        "\n",
        "test_4igh = test.loc[test['receptor'] == '4igh.pdbqt']\n",
        "test_4igh = test_4igh[['SMILES', 'Energy', 'embedding']].reset_index(drop=True)\n",
        "\n",
        "test_4o4i = test.loc[test['receptor'] == 'receptor_4o4i.pdbqt']\n",
        "test_4o4i = test_4o4i[['SMILES', 'Energy', 'embedding']].reset_index(drop=True)\n",
        "\n",
        "test_2am9 = test.loc[test['receptor'] == '2am9.pdbqt']\n",
        "test_2am9 = test_2am9[['SMILES', 'Energy', 'embedding']].reset_index(drop=True)"
      ],
      "execution_count": null,
      "outputs": []
    },
    {
      "cell_type": "code",
      "metadata": {
        "id": "YlzzG09FjPPv"
      },
      "source": [
        "test_4o2b_GTP_set = GraphWithProtein(df=test_4o2b_GTP, smiles_to_graph=smiles_to_bigraph, node_featurizer=node_featurizer, edge_featurizer=edge_featurizer, cache_file_path='/content/drive/MyDrive/Graph_Neural_Networks/Attentive_FP 3.0/DGL Data/dglgraph4a.bin', smiles_column='SMILES', task_names=['Energy'], log_every=1000)\n",
        "test_6wvr_set = GraphWithProtein(df=test_6wvr, smiles_to_graph=smiles_to_bigraph, node_featurizer=node_featurizer, edge_featurizer=edge_featurizer, cache_file_path='/content/drive/MyDrive/Graph_Neural_Networks/Attentive_FP 3.0/DGL Data/dglgraph5a.bin', smiles_column='SMILES', task_names=['Energy'], log_every=1000)\n",
        "# test_4o2b_set = GraphWithProtein(df=test_4o2b, smiles_to_graph=smiles_to_bigraph, node_featurizer=node_featurizer, edge_featurizer=edge_featurizer, cache_file_path='/content/drive/MyDrive/Graph_Neural_Networks/Attentive_FP 3.0/DGL Data/dglgraph6a.bin', smiles_column='SMILES', task_names=['Energy'], log_every=1000)\n",
        "test_3d0e_set = GraphWithProtein(df=test_3d0e, smiles_to_graph=smiles_to_bigraph, node_featurizer=node_featurizer, edge_featurizer=edge_featurizer, cache_file_path='/content/drive/MyDrive/Graph_Neural_Networks/Attentive_FP 3.0/DGL Data/dglgraph7a.bin', smiles_column='SMILES', task_names=['Energy'], log_every=1000)\n",
        "test_4igh_set = GraphWithProtein(df=test_4igh, smiles_to_graph=smiles_to_bigraph, node_featurizer=node_featurizer, edge_featurizer=edge_featurizer, cache_file_path='/content/drive/MyDrive/Graph_Neural_Networks/Attentive_FP 3.0/DGL Data/dglgraph8a.bin', smiles_column='SMILES', task_names=['Energy'], log_every=1000)\n",
        "test_4o4i_set = GraphWithProtein(df=test_4o4i, smiles_to_graph=smiles_to_bigraph, node_featurizer=node_featurizer, edge_featurizer=edge_featurizer, cache_file_path='/content/drive/MyDrive/Graph_Neural_Networks/Attentive_FP 3.0/DGL Data/dglgraph9a.bin', smiles_column='SMILES', task_names=['Energy'], log_every=1000)\n",
        "test_2am9_set = GraphWithProtein(df=test_2am9, smiles_to_graph=smiles_to_bigraph, node_featurizer=node_featurizer, edge_featurizer=edge_featurizer, cache_file_path='/content/drive/MyDrive/Graph_Neural_Networks/Attentive_FP 3.0/DGL Data/dglgraph10a.bin', smiles_column='SMILES', task_names=['Energy'], log_every=1000)"
      ],
      "execution_count": null,
      "outputs": []
    },
    {
      "cell_type": "code",
      "metadata": {
        "id": "-9HSVVCybXEL"
      },
      "source": [
        "g = train_set[300]\n",
        "G = g[1]"
      ],
      "execution_count": null,
      "outputs": []
    },
    {
      "cell_type": "code",
      "metadata": {
        "id": "djihNUMRarAa"
      },
      "source": [
        "g[3].shape"
      ],
      "execution_count": null,
      "outputs": []
    },
    {
      "cell_type": "code",
      "metadata": {
        "id": "dYYPMqwKScLM"
      },
      "source": [
        "G.edata['he'].shape"
      ],
      "execution_count": null,
      "outputs": []
    },
    {
      "cell_type": "markdown",
      "metadata": {
        "id": "rtocS2AJj205"
      },
      "source": [
        "## Visualization"
      ]
    },
    {
      "cell_type": "code",
      "metadata": {
        "id": "P0eVkFz5ifUm"
      },
      "source": [
        "nx_G = G.to_networkx().to_undirected()"
      ],
      "execution_count": null,
      "outputs": []
    },
    {
      "cell_type": "code",
      "metadata": {
        "id": "zMIdXV--ihyZ",
        "colab": {
          "base_uri": "https://localhost:8080/",
          "height": 319
        },
        "outputId": "9d69b6c9-fc59-442a-d83b-94e4b6f953a3"
      },
      "source": [
        "pos = nx.kamada_kawai_layout(nx_G)\n",
        "nx.draw(nx_G, pos, with_labels=True, node_color=[[.7, .7, .7]])"
      ],
      "execution_count": null,
      "outputs": [
        {
          "output_type": "display_data",
          "data": {
            "image/png": "[encoded data removed]",
            "text/plain": [
              "<Figure size 432x288 with 1 Axes>"
            ]
          },
          "metadata": {
            "tags": []
          }
        }
      ]
    },
    {
      "cell_type": "markdown",
      "metadata": {
        "id": "21kVKZENqHkK"
      },
      "source": [
        "## Test built-in dataset"
      ]
    },
    {
      "cell_type": "markdown",
      "metadata": {
        "id": "d0joccKZQLBH"
      },
      "source": [
        "## Testing Networks"
      ]
    },
    {
      "cell_type": "code",
      "metadata": {
        "id": "FBnN62DDS57_"
      },
      "source": [
        "graph_feat_size = 100\n",
        "num_layers = 2\n",
        "num_timesteps = 2\n",
        "node_feat_size = 25\n",
        "edge_feat_size = 10\n",
        "n_tasks = 1\n",
        "dropout = 0.2\n",
        "weight_decay = 10 ** (-5.0)\n",
        "lr = 10 ** (-3.5)\n",
        "batch_size = 64\n",
        "num_epochs = 800\n",
        "mode = 'lower'\n",
        "patience = 20"
      ],
      "execution_count": null,
      "outputs": []
    },
    {
      "cell_type": "code",
      "metadata": {
        "id": "5c1LRk9YcHoS"
      },
      "source": [
        "def collate_molgraphs(data):\n",
        "    \"\"\"Batching a list of datapoints for dataloader.\n",
        "    Parameters\n",
        "    ----------\n",
        "    data : list of 4-tuples.\n",
        "        Each tuple is for a single datapoint, consisting of\n",
        "        a SMILES, a DGLGraph, all-task labels and a binary\n",
        "        mask indicating the existence of labels.\n",
        "    Returns\n",
        "    -------\n",
        "    smiles : list\n",
        "        List of smiles\n",
        "    bg : DGLGraph\n",
        "        The batched DGLGraph.\n",
        "    labels : Tensor of dtype float32 and shape (B, T)\n",
        "        Batched datapoint labels. B is len(data) and\n",
        "        T is the number of total tasks.\n",
        "    masks : Tensor of dtype float32 and shape (B, T)\n",
        "        Batched datapoint binary mask, indicating the\n",
        "        existence of labels.\n",
        "    \"\"\"\n",
        "    masks = None\n",
        "    smiles, graphs, labels, protein = map(list, zip(*data))\n",
        "\n",
        "    bg = dgl.batch(graphs)\n",
        "    bg.set_n_initializer(dgl.init.zero_initializer)\n",
        "    bg.set_e_initializer(dgl.init.zero_initializer)\n",
        "    labels = torch.stack(labels, dim=0)\n",
        "    protein = torch.stack(protein, dim=0)\n",
        "\n",
        "    if masks is None:\n",
        "        masks = torch.ones(labels.shape)\n",
        "    else:\n",
        "        masks = torch.stack(masks, dim=0)\n",
        "\n",
        "    return smiles, bg, labels, protein, masks\n",
        "#     return smiles, bg, labels, masks"
      ],
      "execution_count": null,
      "outputs": []
    },
    {
      "cell_type": "code",
      "metadata": {
        "id": "ZxHedh9Xg54V"
      },
      "source": [
        "def set_random_seed(seed=0):\n",
        "    \"\"\"Set random seed.\n",
        "    Parameters\n",
        "    ----------\n",
        "    seed : int\n",
        "        Random seed to use. Default to 0.\n",
        "    \"\"\"\n",
        "    np.random.seed(seed)\n",
        "    torch.manual_seed(seed)\n",
        "    if torch.cuda.is_available():\n",
        "        torch.cuda.manual_seed(seed)"
      ],
      "execution_count": null,
      "outputs": []
    },
    {
      "cell_type": "code",
      "metadata": {
        "id": "rgrli4QRTh2L"
      },
      "source": [
        "def regress(model, bg, protein):\n",
        "    bg = bg.to(device)\n",
        "    atom_feats, bond_feats = bg.ndata.pop('hv'), bg.edata.pop('he')\n",
        "    atom_feats, bond_feats = atom_feats.to(device), bond_feats.to(device)\n",
        "    return model(bg, protein, atom_feats, bond_feats)\n",
        "    \n",
        "def run_a_train_epoch(epoch, model, data_loader,\n",
        "                      loss_criterion, optimizer):\n",
        "    model.train()\n",
        "    train_meter_mae = Meter()\n",
        "    train_meter_mse = Meter()\n",
        "    for batch_id, batch_data in enumerate(data_loader):\n",
        "        smiles, bg, labels, protein, masks = batch_data\n",
        "        protein = protein.to(device)\n",
        "        labels, masks = labels.to(device), masks.to(device)\n",
        "        prediction = regress(model, bg, protein)\n",
        "        loss = (loss_criterion(prediction, labels) * (masks != 0).float()).mean()\n",
        "        optimizer.zero_grad()\n",
        "        loss.backward()\n",
        "        optimizer.step()\n",
        "        train_meter_mae.update(prediction, labels, masks)\n",
        "        train_meter_mse.update(prediction, labels, masks)\n",
        "    total_score_mae = np.mean(train_meter_mae.compute_metric('mae'))\n",
        "    total_score_mse = np.mean(train_meter_mse.compute_metric('rmse'))\n",
        "    print('epoch {:d}, training {} {:.4f}, training {} {:.4f}'.format(\n",
        "        epoch + 1,  'mae', total_score_mae, 'mse', total_score_mse**2))\n",
        "\n",
        "def run_an_eval_epoch(model, data_loader):\n",
        "    model.eval()\n",
        "    eval_meter_mae = Meter()\n",
        "    eval_meter_mse = Meter()\n",
        "    with torch.no_grad():\n",
        "        for batch_id, batch_data in enumerate(data_loader):\n",
        "            smiles, bg, labels, protein, masks = batch_data\n",
        "            protein = protein.to(device)\n",
        "            labels = labels.to(device)\n",
        "            prediction = regress(model, bg, protein)\n",
        "            eval_meter_mae.update(prediction, labels, masks)\n",
        "            eval_meter_mse.update(prediction, labels, masks)\n",
        "        total_score_mae = np.mean(eval_meter_mae.compute_metric('mae'))\n",
        "        total_score_mse = np.mean(eval_meter_mse.compute_metric('rmse'))\n",
        "    return total_score_mae, total_score_mse**2"
      ],
      "execution_count": null,
      "outputs": []
    },
    {
      "cell_type": "code",
      "metadata": {
        "id": "FwDB-rL5ic99"
      },
      "source": [
        "seed = 100\n",
        "set_random_seed(seed)"
      ],
      "execution_count": null,
      "outputs": []
    },
    {
      "cell_type": "code",
      "metadata": {
        "id": "Ym4A3UZXcMvQ"
      },
      "source": [
        "train_loader = DataLoader(dataset=train_set, batch_size=batch_size,\n",
        "                          shuffle=True, collate_fn=collate_molgraphs)\n",
        "val_loader = DataLoader(dataset=val_set, batch_size=batch_size,\n",
        "                          shuffle=False, collate_fn=collate_molgraphs)\n",
        "test_loader = DataLoader(dataset=test_set, batch_size=batch_size,\n",
        "                          shuffle=False, collate_fn=collate_molgraphs)"
      ],
      "execution_count": null,
      "outputs": []
    },
    {
      "cell_type": "code",
      "metadata": {
        "id": "c9IDWGIf1vhL"
      },
      "source": [
        "from dgllife.model.gnn import AttentiveFPGNN\n",
        "from dgllife.model.readout import AttentiveFPReadout\n",
        "import torch.nn.functional as F"
      ],
      "execution_count": null,
      "outputs": []
    },
    {
      "cell_type": "code",
      "metadata": {
        "id": "0wC996mL1vhN"
      },
      "source": [
        "class AttentiveFPPredictor(nn.Module):\n",
        "\n",
        "    def __init__(self,\n",
        "                 node_feat_size,\n",
        "                 edge_feat_size,\n",
        "                 pr_input_size=1024,\n",
        "                 pr_out_size=64,\n",
        "                 num_layers=2,\n",
        "                 num_timesteps=2,\n",
        "                 graph_feat_size=100,\n",
        "                 n_tasks=100,\n",
        "                 dropout=0.):\n",
        "        super(AttentiveFPPredictor, self).__init__()\n",
        "        \n",
        "        self.layer1 = nn.Linear(pr_input_size, 128)\n",
        "        self.layer2 = nn.Linear(128, pr_out_size)\n",
        "        self.layer3 = nn.Linear(n_tasks + pr_out_size, 64)\n",
        "        self.layer4 = nn.Linear(64, 1)\n",
        "        \n",
        "        self.gnn = AttentiveFPGNN(node_feat_size=node_feat_size,\n",
        "                                  edge_feat_size=edge_feat_size,\n",
        "                                  num_layers=num_layers,\n",
        "                                  graph_feat_size=graph_feat_size,\n",
        "                                  dropout=dropout)\n",
        "        self.readout = AttentiveFPReadout(feat_size=graph_feat_size,\n",
        "                                          num_timesteps=num_timesteps,\n",
        "                                          dropout=dropout)\n",
        "        self.predict = nn.Sequential(\n",
        "            nn.Dropout(dropout),\n",
        "            nn.Linear(graph_feat_size, n_tasks)\n",
        "        )\n",
        "        \n",
        "\n",
        "    def forward(self, g, fp, node_feats, edge_feats, get_node_weight=False):\n",
        "\n",
        "        x1 = F.relu(self.layer1(fp))\n",
        "        x1 = F.relu(self.layer2(x1))\n",
        "        \n",
        "        node_feats = self.gnn(g, node_feats, edge_feats)\n",
        "        g_feats = self.readout(g, node_feats, get_node_weight)\n",
        "        x2 = self.predict(g_feats)\n",
        "        \n",
        "        x = torch.cat((x1, x2), dim=1)\n",
        "        x = F.relu(self.layer3(x))\n",
        "        x = self.layer4(x)\n",
        "        \n",
        "        return x\n",
        "        "
      ],
      "execution_count": null,
      "outputs": []
    },
    {
      "cell_type": "code",
      "metadata": {
        "id": "k8CoQG52T3M7"
      },
      "source": [
        "model = AttentiveFPPredictor(node_feat_size=25,\n",
        "                              edge_feat_size=10,\n",
        "                              num_layers=num_layers,\n",
        "                              num_timesteps=num_timesteps,\n",
        "                              graph_feat_size=graph_feat_size,\n",
        "                              n_tasks=n_tasks,\n",
        "                              dropout=dropout)"
      ],
      "execution_count": null,
      "outputs": []
    },
    {
      "cell_type": "code",
      "metadata": {
        "id": "XSdkaSLeigEk"
      },
      "source": [
        "loss_fn = nn.MSELoss(reduction='none')\n",
        "optimizer = torch.optim.Adam(model.parameters(), lr=lr, weight_decay=weight_decay)\n",
        "stopper = EarlyStopping(mode=mode, patience=patience)\n",
        "model.to(device)"
      ],
      "execution_count": null,
      "outputs": []
    },
    {
      "cell_type": "code",
      "metadata": {
        "id": "AJwdZdVxIa2W"
      },
      "source": [
        "num_epochs = 120"
      ],
      "execution_count": null,
      "outputs": []
    },
    {
      "cell_type": "code",
      "metadata": {
        "id": "3S5k2ZWii62Q"
      },
      "source": [
        "for epoch in range(num_epochs):\n",
        "    # Train\n",
        "    train_start = time.time()\n",
        "    run_a_train_epoch(epoch, model, train_loader, loss_fn, optimizer)\n",
        "    train_time = time.time() - train_start\n",
        "    # Validation and early stop\n",
        "    val_start = time.time()\n",
        "    val_score_mae, val_score_mse = run_an_eval_epoch(model, val_loader)\n",
        "    val_time = time.time() - val_start\n",
        "    early_stop = stopper.step(val_score_mae, model)\n",
        "    print('epoch {:d}/{:d}, validation {} {:.4f}, validation {} {:.4f}, best validation {} {:.4f}, train epoch time {}, validation epoch time {}'.format(\n",
        "        epoch + 1, num_epochs, 'mae', val_score_mae, 'mse', val_score_mse,\n",
        "        'mae', stopper.best_score, train_time, val_time))\n",
        "    if early_stop:\n",
        "      print('\\nLoading the saved model')\n",
        "      stopper.load_checkpoint(model)\n",
        "      break"
      ],
      "execution_count": null,
      "outputs": []
    },
    {
      "cell_type": "code",
      "metadata": {
        "id": "zoTzRQH51d0L"
      },
      "source": [
        "def save_checkpoint(model, path):\n",
        "  torch.save({'model_state_dict': model.state_dict()}, path + '.pth')"
      ],
      "execution_count": null,
      "outputs": []
    },
    {
      "cell_type": "code",
      "metadata": {
        "id": "wKzjWFsQWXqe"
      },
      "source": [
        " save_checkpoint(model, 'Inhouse_ProTransBert')"
      ],
      "execution_count": null,
      "outputs": []
    },
    {
      "cell_type": "code",
      "metadata": {
        "id": "mPqaOvDxvc0t"
      },
      "source": [
        "checkpoint = torch.load('Inhouse_ProTransBert.pth', map_location=torch.device('cpu'))\n",
        "# checkpoint = torch.load('Inhouse_ProTransBert.pth')\n",
        "model.load_state_dict(checkpoint['model_state_dict'])"
      ],
      "execution_count": null,
      "outputs": []
    },
    {
      "cell_type": "code",
      "metadata": {
        "id": "uS0ur7ZP9mzs"
      },
      "source": [
        "def evaluate_model(model, data_loader):\n",
        "    model.eval()\n",
        "    eval_meter_mae = Meter()\n",
        "    eval_meter_mse = Meter()\n",
        "    predictions = []\n",
        "    originals = []\n",
        "    with torch.no_grad():\n",
        "        for batch_id, batch_data in enumerate(data_loader):\n",
        "            smiles, bg, labels, protein, masks = batch_data\n",
        "            protein = protein.to(device)\n",
        "            originals.append(labels)\n",
        "            labels = labels.to(device)\n",
        "            prediction = regress(model, bg, protein)\n",
        "            predictions.append(prediction)\n",
        "            eval_meter_mae.update(prediction, labels, masks)\n",
        "            eval_meter_mse.update(prediction, labels, masks)\n",
        "        total_score_mae = np.mean(eval_meter_mae.compute_metric('mae'))\n",
        "        total_score_mse = np.mean(eval_meter_mse.compute_metric('rmse'))\n",
        "    originals = torch.cat(originals, dim=0).squeeze().tolist()\n",
        "    predictions = torch.cat(predictions, dim=0).squeeze().tolist()\n",
        "    return total_score_mae, total_score_mse**2, originals, predictions"
      ],
      "execution_count": null,
      "outputs": []
    },
    {
      "cell_type": "code",
      "metadata": {
        "id": "gwDKihFiVqqn"
      },
      "source": [
        "def run_eval_on_data(model, data):\n",
        "  test_loader = DataLoader(dataset=data, batch_size=batch_size,\n",
        "                          shuffle=False, collate_fn=collate_molgraphs)\n",
        "  mae, mse, originals, predictions = evaluate_model(model, test_loader)\n",
        "  return mae, mse, originals, predictions"
      ],
      "execution_count": null,
      "outputs": []
    },
    {
      "cell_type": "code",
      "metadata": {
        "id": "AL3UwSfV9q-e"
      },
      "source": [
        "mae, mse, labels, preds = evaluate_model(model, test_loader)"
      ],
      "execution_count": null,
      "outputs": []
    },
    {
      "cell_type": "code",
      "metadata": {
        "id": "HZJ8rerG9yYv"
      },
      "source": [
        "from tdc import Evaluator"
      ],
      "execution_count": null,
      "outputs": []
    },
    {
      "cell_type": "code",
      "metadata": {
        "id": "8xLbtT_W9zim"
      },
      "source": [
        "! pip install lifelines"
      ],
      "execution_count": null,
      "outputs": []
    },
    {
      "cell_type": "code",
      "metadata": {
        "id": "zW4ZTqS09046"
      },
      "source": [
        "from lifelines.utils import concordance_index"
      ],
      "execution_count": null,
      "outputs": []
    },
    {
      "cell_type": "code",
      "metadata": {
        "id": "mnzWsGwG92Ch"
      },
      "source": [
        "tdc_mse = Evaluator(name = 'MSE')\n",
        "tdc_rmse = Evaluator(name = 'RMSE')\n",
        "tdc_r2 = Evaluator(name = 'R2')\n",
        "tdc_pcc = Evaluator(name = 'PCC')\n",
        "tdc_sp = Evaluator(name = 'Spearman')"
      ],
      "execution_count": null,
      "outputs": []
    },
    {
      "cell_type": "code",
      "metadata": {
        "id": "iXEVycHI-JIM"
      },
      "source": [
        "print('mse: ', tdc_mse(labels, preds), 'rmse: ', tdc_rmse(labels, preds), 'r2: ', tdc_r2(labels, preds), 'pcc: ', tdc_pcc(labels, preds), 'spearman: ', tdc_sp(labels, preds), 'CI: ', concordance_index(labels, preds))"
      ],
      "execution_count": null,
      "outputs": []
    },
    {
      "cell_type": "markdown",
      "metadata": {
        "id": "lAYDxXJN9s_Q"
      },
      "source": [
        "Per protein:"
      ]
    },
    {
      "cell_type": "code",
      "metadata": {
        "id": "i7MN2w0jW8Au"
      },
      "source": [
        "print('mae and mse on the whole test dataset:', run_eval_on_data(model, test_set))\n",
        "print('mae and mse on test_4o2b_GTP:', run_eval_on_data(model, test_4o2b_GTP_set))\n",
        "print('mae and mse on test_6wvr:', run_eval_on_data(model, test_6wvr_set))\n",
        "# print('mae and mse on test_4o2b:', run_eval_on_data(model, test_4o2b_set))\n",
        "print('mae and mse on test_3d0e:', run_eval_on_data(model, test_3d0e_set))\n",
        "print('mae and mse on test_4igh:', run_eval_on_data(model, test_4igh_set))\n",
        "print('mae and mse on test_4o4i:', run_eval_on_data(model, test_4o4i_set))\n",
        "print('mae and mse on test_2am9:', run_eval_on_data(model, test_2am9_set))"
      ],
      "execution_count": null,
      "outputs": []
    },
    {
      "cell_type": "code",
      "metadata": {
        "id": "Hjopa_mCXBbR"
      },
      "source": [
        "testsets = [test_4o2b_GTP_set, test_6wvr_set, test_3d0e_set, test_4igh_set, test_4o4i_set, test_2am9_set]"
      ],
      "execution_count": null,
      "outputs": []
    },
    {
      "cell_type": "code",
      "metadata": {
        "id": "1q0BGdQFxBps"
      },
      "source": [
        "for ts in testsets:\n",
        "  mae, mse, labels, preds = run_eval_on_data(model, ts)\n",
        "  print('mae, mse', mae, mse)\n",
        "  print('mse: ', tdc_mse(labels, preds), 'rmse: ', tdc_rmse(labels, preds), 'r2: ', tdc_r2(labels, preds), 'pcc: ', tdc_pcc(labels, preds), 'spearman: ', tdc_sp(labels, preds), 'CI: ', concordance_index(labels, preds))\n",
        "  # plt.rcParams.update({'figure.figsize':(10,8), 'figure.dpi':200})\n",
        "  # plt.scatter(preds, labels, c=preds, cmap='Spectral')\n",
        "  # plt.colorbar()\n",
        "  # plt.xlim(0, 15)\n",
        "  # plt.ylim(0, 15)\n",
        "  # plt.xlabel('True Values')\n",
        "  # plt.ylabel('Predicted Values')\n",
        "  # plt.show()\n",
        "\n",
        "  # plot = sns.jointplot(x=preds, y=labels, kind='reg', height=5, ratio=4, marginal_kws=dict(bins=25, fill=False))\n",
        "  # plot.ax_marg_x.set_xlim(0, 15)\n",
        "  # plot.ax_marg_y.set_ylim(0, 15)\n",
        "\n",
        "  plt.show()"
      ],
      "execution_count": null,
      "outputs": []
    },
    {
      "cell_type": "code",
      "metadata": {
        "id": "3uglF8M_AAqc"
      },
      "source": [
        ""
      ],
      "execution_count": null,
      "outputs": []
    }
  ]
}