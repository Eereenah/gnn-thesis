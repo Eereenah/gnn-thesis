{
  "nbformat": 4,
  "nbformat_minor": 0,
  "metadata": {
    "colab": {
      "name": "ProTransBert_KIBA_AttentiveFP.ipynb",
      "provenance": [],
      "collapsed_sections": []
    },
    "kernelspec": {
      "display_name": "Python 3",
      "name": "python3"
    },
    "language_info": {
      "name": "python"
    },
    "accelerator": "GPU"
  },
  "cells": [
    {
      "cell_type": "code",
      "metadata": {
        "id": "QN2N-58IiAib"
      },
      "source": [
        "! pip install -q condacolab"
      ],
      "execution_count": null,
      "outputs": []
    },
    {
      "cell_type": "code",
      "metadata": {
        "id": "fMHkIOtDiEWz"
      },
      "source": [
        "import condacolab\n",
        "condacolab.install()"
      ],
      "execution_count": null,
      "outputs": []
    },
    {
      "cell_type": "code",
      "metadata": {
        "id": "uluHLjAUiGjc",
        "colab": {
          "base_uri": "https://localhost:8080/"
        },
        "outputId": "ea78a23e-a5a5-403c-ce87-8cfeab80f91d"
      },
      "source": [
        "import condacolab\n",
        "condacolab.check()"
      ],
      "execution_count": null,
      "outputs": [
        {
          "output_type": "stream",
          "text": [
            "✨🍰✨ Everything looks OK!\n"
          ],
          "name": "stdout"
        }
      ]
    },
    {
      "cell_type": "code",
      "metadata": {
        "id": "B6B146ThIUHD"
      },
      "source": [
        "! pip install PyTDC"
      ],
      "execution_count": null,
      "outputs": []
    },
    {
      "cell_type": "code",
      "metadata": {
        "id": "zkNUwRPlh6eq"
      },
      "source": [
        "! mamba install -c conda-forge rdkit"
      ],
      "execution_count": null,
      "outputs": []
    },
    {
      "cell_type": "code",
      "metadata": {
        "id": "97cDuk_QImX-"
      },
      "source": [
        "from tdc.multi_pred import DTI\n",
        "kiba = DTI(name='KIBA')\n",
        "kiba.convert_to_log(form = 'binding')\n",
        "# convert back: data.convert_from_log(form = 'binding')"
      ],
      "execution_count": null,
      "outputs": []
    },
    {
      "cell_type": "code",
      "metadata": {
        "id": "mOCnLfec2CsN",
        "colab": {
          "base_uri": "https://localhost:8080/",
          "height": 402
        },
        "outputId": "59d82a71-a62e-423c-c8be-ed175d703618"
      },
      "source": [
        "kiba.get_data()"
      ],
      "execution_count": null,
      "outputs": [
        {
          "output_type": "execute_result",
          "data": {
            "text/html": [
              "<div>\n",
              "<style scoped>\n",
              "    .dataframe tbody tr th:only-of-type {\n",
              "        vertical-align: middle;\n",
              "    }\n",
              "\n",
              "    .dataframe tbody tr th {\n",
              "        vertical-align: top;\n",
              "    }\n",
              "\n",
              "    .dataframe thead th {\n",
              "        text-align: right;\n",
              "    }\n",
              "</style>\n",
              "<table border=\"1\" class=\"dataframe\">\n",
              "  <thead>\n",
              "    <tr style=\"text-align: right;\">\n",
              "      <th></th>\n",
              "      <th>Drug_ID</th>\n",
              "      <th>Drug</th>\n",
              "      <th>Target_ID</th>\n",
              "      <th>Target</th>\n",
              "      <th>Y</th>\n",
              "    </tr>\n",
              "  </thead>\n",
              "  <tbody>\n",
              "    <tr>\n",
              "      <th>0</th>\n",
              "      <td>CHEMBL1087421</td>\n",
              "      <td>COc1cc2c(cc1Cl)C(c1ccc(Cl)c(Cl)c1)=NCC2</td>\n",
              "      <td>O00141</td>\n",
              "      <td>MTVKTEAAKGTLTYSRMRGMVAILIAFMKQRRMGLNDFIQKIANNS...</td>\n",
              "      <td>7.950782</td>\n",
              "    </tr>\n",
              "    <tr>\n",
              "      <th>1</th>\n",
              "      <td>CHEMBL1087421</td>\n",
              "      <td>COc1cc2c(cc1Cl)C(c1ccc(Cl)c(Cl)c1)=NCC2</td>\n",
              "      <td>O14920</td>\n",
              "      <td>MSWSPSLTTQTCGAWEMKERLGTGGFGNVIRWHNQETGEQIAIKQC...</td>\n",
              "      <td>7.950782</td>\n",
              "    </tr>\n",
              "    <tr>\n",
              "      <th>2</th>\n",
              "      <td>CHEMBL1087421</td>\n",
              "      <td>COc1cc2c(cc1Cl)C(c1ccc(Cl)c(Cl)c1)=NCC2</td>\n",
              "      <td>O15111</td>\n",
              "      <td>MERPPGLRPGAGGPWEMRERLGTGGFGNVCLYQHRELDLKIAIKSC...</td>\n",
              "      <td>7.950782</td>\n",
              "    </tr>\n",
              "    <tr>\n",
              "      <th>3</th>\n",
              "      <td>CHEMBL1087421</td>\n",
              "      <td>COc1cc2c(cc1Cl)C(c1ccc(Cl)c(Cl)c1)=NCC2</td>\n",
              "      <td>P00533</td>\n",
              "      <td>MRPSGTAGAALLALLAALCPASRALEEKKVCQGTSNKLTQLGTFED...</td>\n",
              "      <td>7.950782</td>\n",
              "    </tr>\n",
              "    <tr>\n",
              "      <th>4</th>\n",
              "      <td>CHEMBL1087421</td>\n",
              "      <td>COc1cc2c(cc1Cl)C(c1ccc(Cl)c(Cl)c1)=NCC2</td>\n",
              "      <td>P04626</td>\n",
              "      <td>MELAALCRWGLLLALLPPGAASTQVCTGTDMKLRLPASPETHLDML...</td>\n",
              "      <td>7.950782</td>\n",
              "    </tr>\n",
              "    <tr>\n",
              "      <th>...</th>\n",
              "      <td>...</td>\n",
              "      <td>...</td>\n",
              "      <td>...</td>\n",
              "      <td>...</td>\n",
              "      <td>...</td>\n",
              "    </tr>\n",
              "    <tr>\n",
              "      <th>118031</th>\n",
              "      <td>CHEMBL230654</td>\n",
              "      <td>CCCc1nc[nH]c1CNc1cc(Cl)c2ncc(C#N)c(Nc3ccc(F)c(...</td>\n",
              "      <td>Q13554</td>\n",
              "      <td>MATTVTCTRFTDEYQLYEDIGKGAFSVVRRCVKLCTGHEYAAKIIN...</td>\n",
              "      <td>7.974779</td>\n",
              "    </tr>\n",
              "    <tr>\n",
              "      <th>118032</th>\n",
              "      <td>CHEMBL230654</td>\n",
              "      <td>CCCc1nc[nH]c1CNc1cc(Cl)c2ncc(C#N)c(Nc3ccc(F)c(...</td>\n",
              "      <td>Q13555</td>\n",
              "      <td>MATTATCTRFTDDYQLFEELGKGAFSVVRRCVKKTSTQEYAAKIIN...</td>\n",
              "      <td>7.974779</td>\n",
              "    </tr>\n",
              "    <tr>\n",
              "      <th>118033</th>\n",
              "      <td>CHEMBL230654</td>\n",
              "      <td>CCCc1nc[nH]c1CNc1cc(Cl)c2ncc(C#N)c(Nc3ccc(F)c(...</td>\n",
              "      <td>Q13557</td>\n",
              "      <td>MASTTTCTRFTDEYQLFEELGKGAFSVVRRCMKIPTGQEYAAKIIN...</td>\n",
              "      <td>7.974779</td>\n",
              "    </tr>\n",
              "    <tr>\n",
              "      <th>118034</th>\n",
              "      <td>CHEMBL230654</td>\n",
              "      <td>CCCc1nc[nH]c1CNc1cc(Cl)c2ncc(C#N)c(Nc3ccc(F)c(...</td>\n",
              "      <td>Q16539</td>\n",
              "      <td>MSQERPTFYRQELNKTIWEVPERYQNLSPVGSGAYGSVCAAFDTKT...</td>\n",
              "      <td>7.974779</td>\n",
              "    </tr>\n",
              "    <tr>\n",
              "      <th>118035</th>\n",
              "      <td>CHEMBL230654</td>\n",
              "      <td>CCCc1nc[nH]c1CNc1cc(Cl)c2ncc(C#N)c(Nc3ccc(F)c(...</td>\n",
              "      <td>Q9UQM7</td>\n",
              "      <td>MATITCTRFTEEYQLFEELGKGAFSVVRRCVKVLAGQEYAAKIINT...</td>\n",
              "      <td>7.974779</td>\n",
              "    </tr>\n",
              "  </tbody>\n",
              "</table>\n",
              "<p>118036 rows × 5 columns</p>\n",
              "</div>"
            ],
            "text/plain": [
              "              Drug_ID  ...         Y\n",
              "0       CHEMBL1087421  ...  7.950782\n",
              "1       CHEMBL1087421  ...  7.950782\n",
              "2       CHEMBL1087421  ...  7.950782\n",
              "3       CHEMBL1087421  ...  7.950782\n",
              "4       CHEMBL1087421  ...  7.950782\n",
              "...               ...  ...       ...\n",
              "118031   CHEMBL230654  ...  7.974779\n",
              "118032   CHEMBL230654  ...  7.974779\n",
              "118033   CHEMBL230654  ...  7.974779\n",
              "118034   CHEMBL230654  ...  7.974779\n",
              "118035   CHEMBL230654  ...  7.974779\n",
              "\n",
              "[118036 rows x 5 columns]"
            ]
          },
          "metadata": {
            "tags": []
          },
          "execution_count": 5
        }
      ]
    },
    {
      "cell_type": "code",
      "metadata": {
        "id": "0xb6J5IDI2dt"
      },
      "source": [
        "split = kiba.get_split(method = 'random', seed = 42, frac = [0.8, 0.1, 0.1])"
      ],
      "execution_count": null,
      "outputs": []
    },
    {
      "cell_type": "code",
      "metadata": {
        "id": "D42yd7KPmOEf"
      },
      "source": [
        "train = split['train']\n",
        "valid = split['valid']\n",
        "test = split['test']"
      ],
      "execution_count": null,
      "outputs": []
    },
    {
      "cell_type": "code",
      "metadata": {
        "id": "mlazh1zSlJNj",
        "colab": {
          "base_uri": "https://localhost:8080/",
          "height": 281
        },
        "outputId": "8bc1b733-3938-4a73-9607-5739addf83ad"
      },
      "source": [
        "kiba.label_distribution()"
      ],
      "execution_count": null,
      "outputs": [
        {
          "output_type": "display_data",
          "data": {
            "image/png": "[encoded data removed]",
            "text/plain": [
              "<Figure size 432x288 with 2 Axes>"
            ]
          },
          "metadata": {
            "tags": [],
            "needs_background": "light"
          }
        }
      ]
    },
    {
      "cell_type": "code",
      "metadata": {
        "id": "zN0Z7_TWoeOU"
      },
      "source": [
        "! pip install bio-embeddings[all] --ignore-installed"
      ],
      "execution_count": null,
      "outputs": []
    },
    {
      "cell_type": "code",
      "metadata": {
        "id": "STICcosbr-B2"
      },
      "source": [
        "! pip install tqdm==4.41.1"
      ],
      "execution_count": null,
      "outputs": []
    },
    {
      "cell_type": "code",
      "metadata": {
        "id": "dmu5dFWLsC0B"
      },
      "source": [
        "! pip install dgllife"
      ],
      "execution_count": null,
      "outputs": []
    },
    {
      "cell_type": "code",
      "metadata": {
        "id": "wTj8GVyxsJq_"
      },
      "source": [
        "! pip install dgl-cu101"
      ],
      "execution_count": null,
      "outputs": []
    },
    {
      "cell_type": "code",
      "metadata": {
        "id": "pL0i8tpbtXJ2"
      },
      "source": [
        "import dgllife\n",
        "from dgllife import data\n",
        "import dgl"
      ],
      "execution_count": null,
      "outputs": []
    },
    {
      "cell_type": "code",
      "metadata": {
        "id": "r1fNN6AfsKrd"
      },
      "source": [
        "import numpy as np\n",
        "# from bio_embeddings.embed import ProtTransBertBFDEmbedder"
      ],
      "execution_count": null,
      "outputs": []
    },
    {
      "cell_type": "code",
      "metadata": {
        "id": "iGTsTnW2tZJB"
      },
      "source": [
        "import pandas as pd\n",
        "import time"
      ],
      "execution_count": null,
      "outputs": []
    },
    {
      "cell_type": "code",
      "metadata": {
        "id": "xs_c_fOxhcWz"
      },
      "source": [
        "import networkx as nx"
      ],
      "execution_count": null,
      "outputs": []
    },
    {
      "cell_type": "code",
      "metadata": {
        "id": "3Mr0yQ33oazo"
      },
      "source": [
        "from collections import defaultdict\n",
        "# from dgl import backend as F\n",
        "from rdkit import Chem\n",
        "from rdkit.Chem import ChemicalFeatures\n",
        "from rdkit import RDConfig"
      ],
      "execution_count": null,
      "outputs": []
    },
    {
      "cell_type": "code",
      "metadata": {
        "id": "UxAQNS5Ttw5e"
      },
      "source": [
        "from dgllife.data import MoleculeCSVDataset\n",
        "from dgllife.utils import Meter, smiles_to_bigraph, CanonicalAtomFeaturizer, EarlyStopping, CanonicalBondFeaturizer, BaseAtomFeaturizer, ConcatFeaturizer\n",
        "from dgllife.utils import BaseAtomFeaturizer, atom_type_one_hot, atom_degree_one_hot, \\\n",
        "    atom_formal_charge, atom_num_radical_electrons, \\\n",
        "    atom_hybridization_one_hot, atom_total_num_H_one_hot, atom_implicit_valence_one_hot, atom_is_aromatic, atom_is_chiral_center, atom_chirality_type_one_hot\n",
        "from dgllife.utils.featurizers import BaseBondFeaturizer\n",
        "from dgl.data.utils import save_graphs, load_graphs\n",
        "from dgllife.model import AttentiveFPPredictor\n",
        "from dgllife.model.gnn import AttentiveFPGNN\n",
        "from dgllife.model.readout import AttentiveFPReadout\n",
        "from functools import partial"
      ],
      "execution_count": null,
      "outputs": []
    },
    {
      "cell_type": "code",
      "metadata": {
        "id": "N0tINxQ9tbBK"
      },
      "source": [
        "import shutil\n",
        "import torch\n",
        "import torch.nn as nn\n",
        "\n",
        "from copy import deepcopy\n",
        "from hyperopt import fmin, tpe\n",
        "from torch.optim import Adam\n",
        "from torch.utils.data import DataLoader\n",
        "from torch.nn.utils.rnn import pad_sequence\n",
        "import torch.nn.functional as F"
      ],
      "execution_count": null,
      "outputs": []
    },
    {
      "cell_type": "code",
      "metadata": {
        "id": "ZSIc9p9QtdGn",
        "colab": {
          "base_uri": "https://localhost:8080/"
        },
        "outputId": "05906d86-6c1a-426c-b7d4-685c215e7d9d"
      },
      "source": [
        "from google.colab import drive\n",
        "drive.mount('/content/drive')"
      ],
      "execution_count": null,
      "outputs": [
        {
          "output_type": "stream",
          "text": [
            "Mounted at /content/drive\n"
          ],
          "name": "stdout"
        }
      ]
    },
    {
      "cell_type": "code",
      "metadata": {
        "id": "6k2kooxat7sT"
      },
      "source": [
        "kiba = kiba.get_data()\n",
        "sequences = kiba['Target'].unique()"
      ],
      "execution_count": null,
      "outputs": []
    },
    {
      "cell_type": "code",
      "metadata": {
        "id": "2zEB0hkHuRvX",
        "colab": {
          "base_uri": "https://localhost:8080/"
        },
        "outputId": "777b6d5a-ca9b-4af9-bab9-b4e6edfb91c6"
      },
      "source": [
        "#number of unique sequences \n",
        "len(sequences)"
      ],
      "execution_count": null,
      "outputs": [
        {
          "output_type": "execute_result",
          "data": {
            "text/plain": [
              "229"
            ]
          },
          "metadata": {
            "tags": []
          },
          "execution_count": 22
        }
      ]
    },
    {
      "cell_type": "code",
      "metadata": {
        "id": "7KN3vq1gudZz"
      },
      "source": [
        "embedder = ProtTransBertBFDEmbedder()"
      ],
      "execution_count": null,
      "outputs": []
    },
    {
      "cell_type": "code",
      "metadata": {
        "id": "ZuG2ptVhuujy"
      },
      "source": [
        "embeddings = [embedder.reduce_per_protein(embedder.embed(seq)) for seq in sequences]"
      ],
      "execution_count": null,
      "outputs": []
    },
    {
      "cell_type": "code",
      "metadata": {
        "id": "DNOMIwhwNXuq"
      },
      "source": [
        "embeddings[1].shape"
      ],
      "execution_count": null,
      "outputs": []
    },
    {
      "cell_type": "code",
      "metadata": {
        "id": "oK-mq-KQzzBY"
      },
      "source": [
        "# convert to tensor\n",
        "embeddings = [torch.tensor(e) for e in embeddings]"
      ],
      "execution_count": null,
      "outputs": []
    },
    {
      "cell_type": "code",
      "metadata": {
        "id": "8LtH3I-nycGa"
      },
      "source": [
        "# add passing to make the sequences of the same length\n",
        "padded_embeddings = pad_sequence(embeddings, batch_first=True)"
      ],
      "execution_count": null,
      "outputs": []
    },
    {
      "cell_type": "code",
      "metadata": {
        "id": "yapQ8zUw0Cr3"
      },
      "source": [
        "print(padded_embeddings.shape)\n",
        "# padded_embeddings = padded_embeddings.permute(1, 0, 2)\n",
        "# print(padded_embeddings.shape)"
      ],
      "execution_count": null,
      "outputs": []
    },
    {
      "cell_type": "code",
      "metadata": {
        "id": "fD-5LObK1u1m"
      },
      "source": [
        "padded_embeddings = padded_embeddings.tolist()"
      ],
      "execution_count": null,
      "outputs": []
    },
    {
      "cell_type": "code",
      "metadata": {
        "id": "eXWDmhhJvOfE"
      },
      "source": [
        "embeddings = pd.DataFrame(list(zip(sequences, padded_embeddings)),\n",
        "              columns=['Target','embedding'])"
      ],
      "execution_count": null,
      "outputs": []
    },
    {
      "cell_type": "code",
      "metadata": {
        "id": "qVEguU6MrxZI"
      },
      "source": [
        "embeddings.to_csv('kiba_protransbert_1024.csv')"
      ],
      "execution_count": null,
      "outputs": []
    },
    {
      "cell_type": "code",
      "metadata": {
        "id": "r5TaTh8fpKBl"
      },
      "source": [
        "embeddings = pd.read_csv('kiba_protransbert_1024.csv', converters={'embedding': eval})"
      ],
      "execution_count": null,
      "outputs": []
    },
    {
      "cell_type": "code",
      "metadata": {
        "id": "Zm4OWkk0vUE-"
      },
      "source": [
        "train = pd.merge(train, embeddings, on='Target', how='outer')\n",
        "train = train.dropna()\n",
        "\n",
        "valid = pd.merge(valid, embeddings, on='Target', how='outer')\n",
        "valid = valid.dropna()\n",
        "\n",
        "test = pd.merge(test, embeddings, on='Target', how='outer')\n",
        "test = test.dropna()"
      ],
      "execution_count": null,
      "outputs": []
    },
    {
      "cell_type": "code",
      "metadata": {
        "id": "rm2hCWlovtfn"
      },
      "source": [
        "node_featurizer =  BaseAtomFeaturizer(\n",
        "        featurizer_funcs={'hv': ConcatFeaturizer([\n",
        "            partial(atom_type_one_hot, allowable_set=[\n",
        "                'B', 'C', 'N', 'O', 'F', 'Si', 'P', 'S', 'Cl', 'As', 'Se', 'Br', 'Te', 'I', 'At'],\n",
        "                    encode_unknown=True),\n",
        "            partial(atom_degree_one_hot, allowable_set=list(range(6))),\n",
        "            atom_formal_charge, atom_num_radical_electrons,\n",
        "            partial(atom_hybridization_one_hot, encode_unknown=True),\n",
        "            lambda atom: [0], # A placeholder for aromatic information,\n",
        "            atom_total_num_H_one_hot, atom_is_chiral_center, atom_chirality_type_one_hot\n",
        "        ],\n",
        "        )})"
      ],
      "execution_count": null,
      "outputs": []
    },
    {
      "cell_type": "code",
      "metadata": {
        "id": "RkJRGo5Lv8GK"
      },
      "source": [
        "edge_featurizer = BaseBondFeaturizer({'he': lambda bond: [0 for _ in range(10)]})"
      ],
      "execution_count": null,
      "outputs": []
    },
    {
      "cell_type": "code",
      "metadata": {
        "id": "-Y1TeHIKv80K"
      },
      "source": [
        "class GraphWithProtein(MoleculeCSVDataset):\n",
        "    def __init__(self,\n",
        "                 df,\n",
        "                 smiles_to_graph=smiles_to_bigraph,\n",
        "                 node_featurizer=None,\n",
        "                 edge_featurizer=None,\n",
        "                 smiles_column='Drug',\n",
        "                 cache_file_path='protein_dglgraph.bin',\n",
        "                 task_names=['Target'],\n",
        "                 load=True,\n",
        "                 log_every=1000):\n",
        "\n",
        "        self.protein = torch.tensor(df['embedding'].tolist()).float()\n",
        "        self.load_full = True\n",
        "\n",
        "        super(GraphWithProtein, self).__init__(df=df,\n",
        "                                            smiles_to_graph=smiles_to_graph,\n",
        "                                            node_featurizer=node_featurizer,\n",
        "                                            edge_featurizer=edge_featurizer,\n",
        "                                            smiles_column=smiles_column,\n",
        "                                            cache_file_path=cache_file_path,\n",
        "                                            task_names=task_names,\n",
        "                                            load=load,\n",
        "                                            log_every=log_every)\n",
        "\n",
        "    def __getitem__(self, item):\n",
        "        if self.load_full:\n",
        "            return self.smiles[item], self.graphs[item], self.labels[item], self.protein[item]\n",
        "        else:\n",
        "            return self.smiles[item], self.graphs[item], self.labels[item]"
      ],
      "execution_count": null,
      "outputs": []
    },
    {
      "cell_type": "code",
      "metadata": {
        "id": "e3AhawLhwN3M"
      },
      "source": [
        "train_set = GraphWithProtein(df=train, smiles_to_graph=smiles_to_bigraph, node_featurizer=node_featurizer, edge_featurizer=edge_featurizer, cache_file_path='dglgraph1.bin', smiles_column='Drug', task_names=['Y'], log_every=1000)\n",
        "val_set = GraphWithProtein(df=valid, smiles_to_graph=smiles_to_bigraph, node_featurizer=node_featurizer, edge_featurizer=edge_featurizer, cache_file_path='dglgraph2.bin', smiles_column='Drug', task_names=['Y'], log_every=1000)\n",
        "test_set = GraphWithProtein(df=test, smiles_to_graph=smiles_to_bigraph, node_featurizer=node_featurizer, edge_featurizer=edge_featurizer, cache_file_path='dglgraph3.bin', smiles_column='Drug', task_names=['Y'], log_every=1000)"
      ],
      "execution_count": null,
      "outputs": []
    },
    {
      "cell_type": "code",
      "metadata": {
        "id": "qNj58MIDv_P3"
      },
      "source": [
        "graph_feat_size = 100\n",
        "num_layers = 2\n",
        "num_timesteps = 2\n",
        "node_feat_size = 39\n",
        "edge_feat_size = 10\n",
        "n_tasks = 1\n",
        "dropout = 0.2\n",
        "weight_decay = 10 ** (-5.0)\n",
        "lr = 10 ** (-3)\n",
        "batch_size = 64\n",
        "num_epochs = 800\n",
        "mode = 'lower'\n",
        "patience = 20"
      ],
      "execution_count": null,
      "outputs": []
    },
    {
      "cell_type": "code",
      "metadata": {
        "id": "CrtQsNmMyuSM"
      },
      "source": [
        "def collate_molgraphs(data):\n",
        "    masks = None\n",
        "    smiles, graphs, labels, protein = map(list, zip(*data))\n",
        "\n",
        "    bg = dgl.batch(graphs)\n",
        "    bg.set_n_initializer(dgl.init.zero_initializer)\n",
        "    bg.set_e_initializer(dgl.init.zero_initializer)\n",
        "    labels = torch.stack(labels, dim=0)\n",
        "    protein = torch.stack(protein, dim=0)\n",
        "\n",
        "    if masks is None:\n",
        "        masks = torch.ones(labels.shape)\n",
        "    else:\n",
        "        masks = torch.stack(masks, dim=0)\n",
        "\n",
        "    return smiles, bg, labels, protein, masks\n",
        "#     return smiles, bg, labels, masks"
      ],
      "execution_count": null,
      "outputs": []
    },
    {
      "cell_type": "code",
      "metadata": {
        "id": "UUxNXAqayxKy"
      },
      "source": [
        "def regress(model, bg, protein):\n",
        "    bg = bg.to(device)\n",
        "    atom_feats, bond_feats = bg.ndata.pop('hv'), bg.edata.pop('he')\n",
        "    atom_feats, bond_feats = atom_feats.to(device), bond_feats.to(device)\n",
        "    return model(bg, protein, atom_feats, bond_feats)\n",
        "    \n",
        "def run_a_train_epoch(epoch, model, data_loader,\n",
        "                      loss_criterion, optimizer):\n",
        "    model.train()\n",
        "    train_meter_mae = Meter()\n",
        "    train_meter_mse = Meter()\n",
        "    for batch_id, batch_data in enumerate(data_loader):\n",
        "        smiles, bg, labels, protein, masks = batch_data\n",
        "        protein = protein.to(device)\n",
        "        labels, masks = labels.to(device), masks.to(device)\n",
        "        prediction = regress(model, bg, protein)\n",
        "        loss = (loss_criterion(prediction, labels) * (masks != 0).float()).mean()\n",
        "        optimizer.zero_grad()\n",
        "        loss.backward()\n",
        "        optimizer.step()\n",
        "        train_meter_mae.update(prediction, labels, masks)\n",
        "        train_meter_mse.update(prediction, labels, masks)\n",
        "    total_score_mae = np.mean(train_meter_mae.compute_metric('mae'))\n",
        "    total_score_mse = np.mean(train_meter_mse.compute_metric('rmse'))\n",
        "    print('epoch {:d}, training {} {:.4f}, training {} {:.4f}'.format(\n",
        "        epoch + 1,  'mae', total_score_mae, 'mse', total_score_mse**2))\n",
        "\n",
        "def run_an_eval_epoch(model, data_loader):\n",
        "    model.eval()\n",
        "    eval_meter_mae = Meter()\n",
        "    eval_meter_mse = Meter()\n",
        "    with torch.no_grad():\n",
        "        for batch_id, batch_data in enumerate(data_loader):\n",
        "            smiles, bg, labels, protein, masks = batch_data\n",
        "            protein = protein.to(device)\n",
        "            labels = labels.to(device)\n",
        "            prediction = regress(model, bg, protein)\n",
        "            eval_meter_mae.update(prediction, labels, masks)\n",
        "            eval_meter_mse.update(prediction, labels, masks)\n",
        "        total_score_mae = np.mean(eval_meter_mae.compute_metric('mae'))\n",
        "        total_score_mse = np.mean(eval_meter_mse.compute_metric('rmse'))\n",
        "    return total_score_mae, total_score_mse**2"
      ],
      "execution_count": null,
      "outputs": []
    },
    {
      "cell_type": "code",
      "metadata": {
        "id": "wmMT7PRby4yg"
      },
      "source": [
        "def set_random_seed(seed=0):\n",
        "    np.random.seed(seed)\n",
        "    torch.manual_seed(seed)\n",
        "    if torch.cuda.is_available():\n",
        "        torch.cuda.manual_seed(seed)"
      ],
      "execution_count": null,
      "outputs": []
    },
    {
      "cell_type": "code",
      "metadata": {
        "id": "WtioCuwGyzSi"
      },
      "source": [
        "seed = 42\n",
        "set_random_seed(seed)"
      ],
      "execution_count": null,
      "outputs": []
    },
    {
      "cell_type": "code",
      "metadata": {
        "id": "1tWbwXh9y1Qd"
      },
      "source": [
        "train_loader = DataLoader(dataset=train_set, batch_size=batch_size,\n",
        "                          shuffle=True, collate_fn=collate_molgraphs)\n",
        "val_loader = DataLoader(dataset=val_set, batch_size=batch_size,\n",
        "                          shuffle=False, collate_fn=collate_molgraphs)\n",
        "test_loader = DataLoader(dataset=test_set, batch_size=batch_size,\n",
        "                          shuffle=False, collate_fn=collate_molgraphs)"
      ],
      "execution_count": null,
      "outputs": []
    },
    {
      "cell_type": "code",
      "metadata": {
        "id": "oD5VAsC5y_yS"
      },
      "source": [
        "class AttentiveFPPredictor(nn.Module):\n",
        "\n",
        "    def __init__(self,\n",
        "                 node_feat_size,\n",
        "                 edge_feat_size,\n",
        "                 pr_input_size=1024,\n",
        "                 pr_out_size=64,\n",
        "                 num_layers=2,\n",
        "                 num_timesteps=2,\n",
        "                 graph_feat_size=100,\n",
        "                 n_tasks=100,\n",
        "                 dropout=0.):\n",
        "        super(AttentiveFPPredictor, self).__init__()\n",
        "        \n",
        "        self.layer1 = nn.Linear(pr_input_size, 128)\n",
        "        self.layer2 = nn.Linear(128, pr_out_size)\n",
        "        self.layer3 = nn.Linear(n_tasks + pr_out_size, 64)\n",
        "        self.layer4 = nn.Linear(64, 1)\n",
        "        \n",
        "        self.gnn = AttentiveFPGNN(node_feat_size=node_feat_size,\n",
        "                                  edge_feat_size=edge_feat_size,\n",
        "                                  num_layers=num_layers,\n",
        "                                  graph_feat_size=graph_feat_size,\n",
        "                                  dropout=dropout)\n",
        "        self.readout = AttentiveFPReadout(feat_size=graph_feat_size,\n",
        "                                          num_timesteps=num_timesteps,\n",
        "                                          dropout=dropout)\n",
        "        self.predict = nn.Sequential(\n",
        "            nn.Dropout(dropout),\n",
        "            nn.Linear(graph_feat_size, n_tasks)\n",
        "        )\n",
        "        \n",
        "\n",
        "    def forward(self, g, fp, node_feats, edge_feats, get_node_weight=False):\n",
        "\n",
        "        x1 = F.relu(self.layer1(fp))\n",
        "        x1 = F.relu(self.layer2(x1))\n",
        "        \n",
        "        node_feats = self.gnn(g, node_feats, edge_feats)\n",
        "        g_feats = self.readout(g, node_feats, get_node_weight)\n",
        "        x2 = self.predict(g_feats)\n",
        "        \n",
        "        x = torch.cat((x1, x2), dim=1)\n",
        "        x = F.relu(self.layer3(x))\n",
        "        x = self.layer4(x)\n",
        "        \n",
        "        return x"
      ],
      "execution_count": null,
      "outputs": []
    },
    {
      "cell_type": "code",
      "metadata": {
        "id": "XnMvBgkUzCAD"
      },
      "source": [
        "model = AttentiveFPPredictor(node_feat_size=39,\n",
        "                              edge_feat_size=10,\n",
        "                              num_layers=num_layers,\n",
        "                              num_timesteps=num_timesteps,\n",
        "                              graph_feat_size=graph_feat_size,\n",
        "                              n_tasks=n_tasks,\n",
        "                              dropout=dropout)"
      ],
      "execution_count": null,
      "outputs": []
    },
    {
      "cell_type": "code",
      "metadata": {
        "id": "Y_whtUuDzJYe",
        "colab": {
          "base_uri": "https://localhost:8080/"
        },
        "outputId": "ec399b98-341c-452e-a508-77de9a5d8454"
      },
      "source": [
        "device = torch.device('cuda' if torch.cuda.is_available() else 'cpu')\n",
        "print(device)"
      ],
      "execution_count": null,
      "outputs": [
        {
          "output_type": "stream",
          "text": [
            "cpu\n"
          ],
          "name": "stdout"
        }
      ]
    },
    {
      "cell_type": "code",
      "metadata": {
        "id": "Acc2dWpkzDr_"
      },
      "source": [
        "loss_fn = nn.MSELoss(reduction='none')\n",
        "optimizer = torch.optim.Adam(model.parameters(), lr=lr, weight_decay=weight_decay)\n",
        "stopper = EarlyStopping(mode=mode, patience=patience)\n",
        "model.to(device)"
      ],
      "execution_count": null,
      "outputs": []
    },
    {
      "cell_type": "code",
      "metadata": {
        "id": "mg56XSrBzFER"
      },
      "source": [
        "for epoch in range(num_epochs):\n",
        "    # Train\n",
        "    train_start = time.time()\n",
        "    run_a_train_epoch(epoch, model, train_loader, loss_fn, optimizer)\n",
        "    train_time = time.time() - train_start\n",
        "    # Validation and early stop\n",
        "    val_start = time.time()\n",
        "    val_score_mae, val_score_mse = run_an_eval_epoch(model, val_loader)\n",
        "    val_time = time.time() - val_start\n",
        "    early_stop = stopper.step(val_score_mse, model)\n",
        "    print('epoch {:d}/{:d}, validation {} {:.4f}, validation {} {:.4f}, best validation {} {:.4f}, train epoch time {}, validation epoch time {}'.format(\n",
        "        epoch + 1, num_epochs, 'mae', val_score_mae, 'mse', val_score_mse,\n",
        "        'mae', stopper.best_score, train_time, val_time))\n",
        "    if early_stop:\n",
        "      print('\\nLoading the saved model')\n",
        "      stopper.load_checkpoint(model)\n",
        "      break"
      ],
      "execution_count": null,
      "outputs": []
    },
    {
      "cell_type": "code",
      "metadata": {
        "id": "zoTzRQH51d0L"
      },
      "source": [
        "def save_checkpoint(model, path):\n",
        "  torch.save({'model_state_dict': model.state_dict()}, path + '.pth')"
      ],
      "execution_count": null,
      "outputs": []
    },
    {
      "cell_type": "code",
      "metadata": {
        "id": "wKzjWFsQWXqe"
      },
      "source": [
        " save_checkpoint(model, 'Kiba_ProTransBert_allfeatures')"
      ],
      "execution_count": null,
      "outputs": []
    },
    {
      "cell_type": "code",
      "metadata": {
        "id": "mPqaOvDxvc0t"
      },
      "source": [
        "# checkpoint = torch.load('Kiba_ProTransBert.pth')\n",
        "checkpoint = torch.load('Kiba_ProTransBert.pth', map_location=torch.device('cpu'))\n",
        "model.load_state_dict(checkpoint['model_state_dict'])"
      ],
      "execution_count": null,
      "outputs": []
    },
    {
      "cell_type": "code",
      "metadata": {
        "id": "ki7UYROi__S9"
      },
      "source": [
        "def evaluate_model(model, data_loader):\n",
        "    model.eval()\n",
        "    eval_meter_mae = Meter()\n",
        "    eval_meter_mse = Meter()\n",
        "    predictions = []\n",
        "    originals = []\n",
        "    with torch.no_grad():\n",
        "        for batch_id, batch_data in enumerate(data_loader):\n",
        "            smiles, bg, labels, protein, masks = batch_data\n",
        "            protein = protein.to(device)\n",
        "            originals.append(labels)\n",
        "            labels = labels.to(device)\n",
        "            prediction = regress(model, bg, protein)\n",
        "            predictions.append(prediction)\n",
        "            eval_meter_mae.update(prediction, labels, masks)\n",
        "            eval_meter_mse.update(prediction, labels, masks)\n",
        "        total_score_mae = np.mean(eval_meter_mae.compute_metric('mae'))\n",
        "        total_score_mse = np.mean(eval_meter_mse.compute_metric('rmse'))\n",
        "    originals = torch.cat(originals, dim=0).squeeze().tolist()\n",
        "    predictions = torch.cat(predictions, dim=0).squeeze().tolist()\n",
        "    return total_score_mae, total_score_mse**2, originals, predictions"
      ],
      "execution_count": null,
      "outputs": []
    },
    {
      "cell_type": "code",
      "metadata": {
        "id": "gwDKihFiVqqn"
      },
      "source": [
        "def run_eval_on_data(model, data):\n",
        "  test_loader = DataLoader(dataset=data, batch_size=batch_size,\n",
        "                          shuffle=False, collate_fn=collate_molgraphs)\n",
        "  mae, mse, originals, predictions = run_an_eval_epoch(model, test_loader)\n",
        "  originals = torch.cat(originals, dim=0).squeeze().tolist()\n",
        "  predictions = torch.cat(predictions, dim=0).squeeze().tolist()\n",
        "  return mae, mse, originals, predictions"
      ],
      "execution_count": null,
      "outputs": []
    },
    {
      "cell_type": "code",
      "metadata": {
        "id": "7hCvtOXyB_wP"
      },
      "source": [
        "mae, mse, labels, preds = evaluate_model(model, test_loader)"
      ],
      "execution_count": null,
      "outputs": []
    },
    {
      "cell_type": "code",
      "metadata": {
        "id": "lsntsAChAs1n"
      },
      "source": [
        "from tdc import Evaluator"
      ],
      "execution_count": null,
      "outputs": []
    },
    {
      "cell_type": "code",
      "metadata": {
        "id": "LAgMf7KnL1v_"
      },
      "source": [
        "! pip install lifelines"
      ],
      "execution_count": null,
      "outputs": []
    },
    {
      "cell_type": "code",
      "metadata": {
        "id": "J8-JL0M5LI-Q"
      },
      "source": [
        "from lifelines.utils import concordance_index"
      ],
      "execution_count": null,
      "outputs": []
    },
    {
      "cell_type": "code",
      "metadata": {
        "id": "O65foATuAfbq"
      },
      "source": [
        "tdc_mse = Evaluator(name = 'MSE')\n",
        "tdc_rmse = Evaluator(name = 'RMSE')\n",
        "tdc_r2 = Evaluator(name = 'R2')\n",
        "tdc_pcc = Evaluator(name = 'PCC')\n",
        "tdc_sp = Evaluator(name = 'Spearman')"
      ],
      "execution_count": null,
      "outputs": []
    },
    {
      "cell_type": "code",
      "metadata": {
        "id": "qP6wPgwuAjzD"
      },
      "source": [
        "print('mse: ', tdc_mse(labels, preds), 'rmse: ', tdc_rmse(labels, preds), 'r2: ', tdc_r2(labels, preds), 'pcc: ', tdc_pcc(labels, preds), 'spearman: ', tdc_sp(labels, preds), 'CI: ', concordance_index(labels, preds))"
      ],
      "execution_count": null,
      "outputs": []
    },
    {
      "cell_type": "code",
      "metadata": {
        "id": "PIiQsiBjMYF4"
      },
      "source": [
        "from matplotlib import pyplot as plt"
      ],
      "execution_count": null,
      "outputs": []
    },
    {
      "cell_type": "code",
      "metadata": {
        "id": "wIHKGGHwKlt4"
      },
      "source": [
        "plt.rcParams.update({'figure.figsize':(16,8), 'figure.dpi':200})\n",
        "plt.scatter(preds, labels, c=preds, cmap='Spectral')\n",
        "plt.colorbar()\n",
        "plt.xlim(8, 17)\n",
        "plt.ylim(8, 17)\n",
        "plt.xlabel('True Values')\n",
        "plt.ylabel('Predicted Values')\n",
        "plt.show()"
      ],
      "execution_count": null,
      "outputs": []
    },
    {
      "cell_type": "code",
      "metadata": {
        "id": "h573AL9ITrma"
      },
      "source": [
        "import seaborn as sns"
      ],
      "execution_count": null,
      "outputs": []
    },
    {
      "cell_type": "code",
      "metadata": {
        "id": "VYOgiofsU91H"
      },
      "source": [
        "plot = sns.jointplot(x=preds, y=labels, kind='reg', height=5, ratio=4, marginal_kws=dict(bins=25, fill=False))\n",
        "plot.ax_marg_x.set_xlim(8, 17)\n",
        "plot.ax_marg_y.set_ylim(8, 17)\n",
        "\n",
        "plt.show()"
      ],
      "execution_count": null,
      "outputs": []
    }
  ]
}